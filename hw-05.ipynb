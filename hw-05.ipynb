{
 "cells": [
  {
   "cell_type": "markdown",
   "source": [
    "# What is the relationship between the opening price and volume concerning the closing price of a stock on a daily basis?\n",
    "\n",
    "## Dataset- Big Tech Stock Prices"
   ],
   "metadata": {
    "collapsed": false
   },
   "id": "49b6c0b0e663beed"
  },
  {
   "cell_type": "markdown",
   "source": [
    "By- Likith Kumar Dundigalla"
   ],
   "metadata": {
    "collapsed": false
   },
   "id": "a7f855eaea28f0b"
  },
  {
   "cell_type": "markdown",
   "source": [
    "#### To ignore warnings "
   ],
   "metadata": {
    "collapsed": false
   },
   "id": "a7bbc9d41d34e848"
  },
  {
   "cell_type": "code",
   "execution_count": 263,
   "outputs": [],
   "source": [
    "import warnings\n",
    "warnings.filterwarnings(\"ignore\")  "
   ],
   "metadata": {
    "collapsed": false,
    "ExecuteTime": {
     "end_time": "2023-12-11T05:11:01.065133400Z",
     "start_time": "2023-12-11T05:10:51.064033400Z"
    }
   },
   "id": "94f74ae6000ee804"
  },
  {
   "cell_type": "markdown",
   "source": [
    "#### Import all required libraries"
   ],
   "metadata": {
    "collapsed": false
   },
   "id": "77fe29494ba40b90"
  },
  {
   "cell_type": "code",
   "execution_count": 264,
   "outputs": [],
   "source": [
    "import pandas as pd\n",
    "import seaborn as sns\n",
    "import numpy as np\n",
    "from sklearn.model_selection import KFold\n",
    "import statsmodels.api as sm\n",
    "from sklearn.utils import resample\n",
    "from sklearn.linear_model import LinearRegression\n",
    "import matplotlib.pyplot as plt\n",
    "from sklearn.ensemble import RandomForestRegressor\n",
    "from sklearn.metrics import mean_squared_error, r2_score, mean_absolute_error\n",
    "from sklearn.model_selection import train_test_split"
   ],
   "metadata": {
    "collapsed": false,
    "ExecuteTime": {
     "end_time": "2023-12-11T05:11:01.134764100Z",
     "start_time": "2023-12-11T05:10:51.189028400Z"
    }
   },
   "id": "fd0af32fd0e68d91"
  },
  {
   "cell_type": "markdown",
   "source": [
    "### Data selection and exploration & Data preprocessing"
   ],
   "metadata": {
    "collapsed": false
   },
   "id": "19c9e0237bd302bd"
  },
  {
   "cell_type": "markdown",
   "source": [
    "#### Loading dataset into dataframe through Url"
   ],
   "metadata": {
    "collapsed": false
   },
   "id": "96ebd4849e13fbf4"
  },
  {
   "cell_type": "code",
   "execution_count": null,
   "outputs": [],
   "source": [
    "data=pd.read_csv('https://raw.githubusercontent.com/rfordatascience/tidytuesday/master/data/2023/2023-02-07/big_tech_stock_prices.csv')"
   ],
   "metadata": {
    "collapsed": false,
    "ExecuteTime": {
     "start_time": "2023-12-11T05:10:51.432183500Z"
    }
   },
   "id": "52d48a9c062516e8"
  },
  {
   "cell_type": "code",
   "execution_count": null,
   "outputs": [],
   "source": [
    "#summary information about a dataset \n",
    "data.info()"
   ],
   "metadata": {
    "collapsed": false
   },
   "id": "62461d37260e0a76"
  },
  {
   "cell_type": "code",
   "execution_count": null,
   "outputs": [],
   "source": [
    "#statistics such as count, mean, standard deviation, minimum, maximum, and quartile values for each numerical column\n",
    "data.describe()"
   ],
   "metadata": {
    "collapsed": false
   },
   "id": "5bb74c19170771ba"
  },
  {
   "cell_type": "code",
   "execution_count": null,
   "outputs": [],
   "source": [
    "#identify missing or null values within a DataFrame \n",
    "data.isnull().sum()"
   ],
   "metadata": {
    "collapsed": false
   },
   "id": "3bea99a39bd04f43"
  },
  {
   "cell_type": "code",
   "execution_count": null,
   "outputs": [],
   "source": [
    "#First 5 records of data\n",
    "data.head()"
   ],
   "metadata": {
    "collapsed": false
   },
   "id": "68650fccb3982ff5"
  },
  {
   "cell_type": "code",
   "execution_count": null,
   "outputs": [],
   "source": [
    "#Boxplot of data\n",
    "sns.boxplot(data)"
   ],
   "metadata": {
    "collapsed": false
   },
   "id": "1e9e59f600e2c3e3"
  },
  {
   "cell_type": "code",
   "execution_count": null,
   "outputs": [],
   "source": [
    "#pairwise relationships between numeric columns in the dataset.\n",
    "sns.pairplot(data,kind='scatter')"
   ],
   "metadata": {
    "collapsed": false
   },
   "id": "5fc3910f46c42d11"
  },
  {
   "cell_type": "code",
   "execution_count": null,
   "outputs": [],
   "source": [
    "# Correlation between each column in dataset\n",
    "correlation_matrix = data.corr()\n",
    "correlation_matrix"
   ],
   "metadata": {
    "collapsed": false
   },
   "id": "bca5d604376ab2cd"
  },
  {
   "cell_type": "markdown",
   "source": [
    "#### Declaring the features and the target values and seperating into train and test data"
   ],
   "metadata": {
    "collapsed": false
   },
   "id": "440300e0a796271e"
  },
  {
   "cell_type": "code",
   "execution_count": null,
   "outputs": [],
   "source": [
    "X=data[['open','volume']]\n",
    "y=data['close']"
   ],
   "metadata": {
    "collapsed": false
   },
   "id": "576a9e4085fae60a"
  },
  {
   "cell_type": "code",
   "execution_count": null,
   "outputs": [],
   "source": [
    "X_train, X_test, y_train, y_test = train_test_split(X, y, test_size=0.2, random_state=42)"
   ],
   "metadata": {
    "collapsed": false
   },
   "id": "29cce1c3823cf941"
  },
  {
   "cell_type": "code",
   "execution_count": null,
   "outputs": [],
   "source": [
    "# Resampling \n",
    "# Example: Resampling for imbalanced data using bootstrap\n",
    "X_train_resampled, y_train_resampled = resample(X_train, y_train, replace=True, random_state=42)"
   ],
   "metadata": {
    "collapsed": false
   },
   "id": "1c0cd0fa77cfe33e"
  },
  {
   "cell_type": "markdown",
   "source": [
    "### Ordinary Least Squares(OLS) Regression"
   ],
   "metadata": {
    "collapsed": false
   },
   "id": "4657be40980b6627"
  },
  {
   "cell_type": "code",
   "execution_count": null,
   "outputs": [],
   "source": [
    "# Model Building with statsmodels\n",
    "X_train_sm = sm.add_constant(X_train_resampled)  \n",
    "\n",
    "# Adding a constant for the intercept\n",
    "ols_model = sm.OLS(y_train_resampled, X_train_sm).fit()\n",
    "\n",
    "# Evaluate Model Performance\n",
    "# Adding a constant for the intercept in test data (statsmodels)\n",
    "X_test_sm = sm.add_constant(X_test) \n",
    "\n",
    "# Predict using statsmodels model\n",
    "y_pred_sm = ols_model.predict(X_test_sm)\n",
    "\n",
    "# Model Diagnostics\n",
    "# Print model summary with regression diagnostics\n",
    "ols_model.summary()  "
   ],
   "metadata": {
    "collapsed": false
   },
   "id": "7f4523c714609f98"
  },
  {
   "cell_type": "markdown",
   "source": [
    "### Inferences:"
   ],
   "metadata": {
    "collapsed": false
   },
   "id": "b7a4be984e64d1ca"
  },
  {
   "cell_type": "markdown",
   "source": [
    "- The model seems to fit the data exceptionally well, with a very high R-squared value (close to 1), suggesting that the independent variables 'open' and 'volume' explain a significant portion of the variance in the 'close' variable.\n",
    "- Both 'open' and 'volume' have coefficients suggesting a positive relationship with the 'close' variable. However, 'volume' has a p-value of 0.038, indicating it might not be as statistically significant as 'open'.\n",
    "- The diagnostic metrics provide insights into potential issues like multicollinearity or deviation from normality assumptions in the model's residuals.\n",
    "Overall, it seems like a highly predictive model with strong explanatory power, but it's essential to consider the significance of each variable and the model's assumptions."
   ],
   "metadata": {
    "collapsed": false
   },
   "id": "61020d4b6d2c72d5"
  },
  {
   "cell_type": "markdown",
   "source": [
    "### Assumption Checks"
   ],
   "metadata": {
    "collapsed": false
   },
   "id": "89c3443659ba25de"
  },
  {
   "cell_type": "code",
   "execution_count": null,
   "outputs": [],
   "source": [
    "residuals = y_test - y_pred_sm\n",
    "# Independence: Use Durbin-Watson test for autocorrelation in residuals\n",
    "dw_test = sm.stats.stattools.durbin_watson(residuals)\n",
    "print(f\"Durbin-Watson test statistic: {dw_test}\")\n",
    "# Values around 2 indicate no autocorrelation\n",
    "\n",
    "# Homoscedasticity: Check for constant variance of residuals\n",
    "# Use a scatter plot of residuals against fitted values\n",
    "plt.scatter(y_pred_sm, residuals)\n",
    "plt.xlabel('Fitted values')\n",
    "plt.ylabel('Residuals')\n",
    "plt.title('Residuals vs Fitted values')\n",
    "plt.show()"
   ],
   "metadata": {
    "collapsed": false
   },
   "id": "b843e83fdb3738c2"
  },
  {
   "cell_type": "markdown",
   "source": [
    "The plot indicated the auto-correlation with respect to residuals and fitted values in model. \n",
    "\n",
    "There is no auto-correlation present in the model"
   ],
   "metadata": {
    "collapsed": false
   },
   "id": "79dcb94f4421e94b"
  },
  {
   "cell_type": "code",
   "execution_count": null,
   "outputs": [],
   "source": [
    "sm.qqplot(residuals, line='s')\n",
    "plt.title('Q-Q plot of residuals')\n",
    "plt.show()"
   ],
   "metadata": {
    "collapsed": false
   },
   "id": "a0cc5f703f8253ef"
  },
  {
   "cell_type": "markdown",
   "source": [
    "The Q-Q plot indicates that the statistical model is not a good fit for the data. The residuals are not normally distributed, which suggests that the model may not be capturing all of the important relationships in the data."
   ],
   "metadata": {
    "collapsed": false
   },
   "id": "992877baea8fad77"
  },
  {
   "cell_type": "code",
   "execution_count": null,
   "outputs": [],
   "source": [
    "OLS_model_R_squared = r2_score(y_test, y_pred_sm)\n",
    "OLS_model_RMSE = mean_squared_error(y_test, y_pred_sm, squared=False)\n",
    "OLS_model_MAE = mean_absolute_error(y_test, y_pred_sm)"
   ],
   "metadata": {
    "collapsed": false
   },
   "id": "accff760d9b4d413"
  },
  {
   "cell_type": "markdown",
   "source": [
    "#### Ordinary Least Squares(OLS) Regression with Cross Validation"
   ],
   "metadata": {
    "collapsed": false
   },
   "id": "34d7c4ac2713e533"
  },
  {
   "cell_type": "code",
   "execution_count": null,
   "outputs": [],
   "source": [
    "# Number of folds for cross-validation\n",
    "num_folds = 5  # You can adjust this as needed\n",
    "\n",
    "# Initialize KFold\n",
    "kf = KFold(n_splits=num_folds, shuffle=True, random_state=42)\n",
    "\n",
    "# Lists to store evaluation metrics across folds\n",
    "r_squared_values = []\n",
    "mae_values = []\n",
    "\n",
    "for train_index, val_index in kf.split(X_train_resampled):\n",
    "    # Split data into train and validation sets for this fold\n",
    "    X_train_fold, X_val_fold = X_train_resampled.iloc[train_index], X_train_resampled.iloc[val_index]\n",
    "    y_train_fold, y_val_fold = y_train_resampled.iloc[train_index], y_train_resampled.iloc[val_index]\n",
    "\n",
    "    # Fit the OLS model\n",
    "    ols_model_fold = sm.OLS(y_train_fold, sm.add_constant(X_train_fold)).fit()\n",
    "\n",
    "    # Make predictions on the validation set\n",
    "    y_pred_val = ols_model_fold.predict(sm.add_constant(X_val_fold))\n",
    "\n",
    "    # Calculate R-squared for this fold\n",
    "    r_squared_fold = 1 - (np.sum((y_val_fold - y_pred_val) ** 2) / np.sum((y_val_fold - np.mean(y_val_fold)) ** 2))\n",
    "    r_squared_values.append(r_squared_fold)\n",
    "\n",
    "    # Calculate MAE for this fold\n",
    "    mae_fold = np.mean(np.abs(y_val_fold - y_pred_val))\n",
    "    mae_values.append(mae_fold)\n",
    "\n",
    "# Calculate average metrics across all folds\n",
    "avg_r_squared = np.mean(r_squared_values)\n",
    "avg_mae = np.mean(mae_values)\n",
    "\n",
    "# Print average metrics\n",
    "print(\"Average R-squared across folds:\", avg_r_squared)\n",
    "print(\"Average MAE across folds:\", avg_mae)"
   ],
   "metadata": {
    "collapsed": false
   },
   "id": "41296bdcce51bbdb"
  },
  {
   "cell_type": "code",
   "execution_count": null,
   "outputs": [],
   "source": [
    "ols_model_fold.summary()"
   ],
   "metadata": {
    "collapsed": false
   },
   "id": "8318df99eafe27c2"
  },
  {
   "cell_type": "markdown",
   "source": [
    "### Comparision \n",
    "\n",
    "Both models have extremely high R-squared values indicating a very good fit to the data.\n",
    "The F-statistics are very high in both cases, indicating that the overall model is statistically significant.\n",
    "'open' variable appears to be highly significant in predicting 'close' in both models (p-value = 0.000), indicating its strong impact.\n",
    "The 'volume' variable, however, shows a different picture:\n",
    "In Summary 1, 'volume' seems to be statistically significant (p-value = 0.038).\n",
    "In Summary 2, 'volume' is not statistically significant (p-value = 0.134).\n",
    "The change in the significance of the 'volume' variable between the two models might be due to the difference in the datasets (different number of observations) or changes in the data's characteristics over time, leading to variations in its impact on predicting the 'close' variable."
   ],
   "metadata": {
    "collapsed": false
   },
   "id": "6225ea1ac4ef2394"
  },
  {
   "cell_type": "markdown",
   "source": [
    "### Linear Regression\n",
    "Linear regression is a statistical method used to model the relationship between a dependent variable (often denoted as 'y') and one or more independent variables (often denoted as 'x'). The objective is to find a linear relationship that best describes the data.\n",
    "\n",
    "In a simple linear regression, there's one independent variable ('x') used to predict the dependent variable ('y'). The relationship between the two variables is represented by a straight line:\n",
    "y=mx+c\n",
    "\n",
    "The linear regression model estimates the values of m and c based on the given data in such a way that the line best fits the data points. This fitting is often done by minimizing the sum of squared differences between the observed and predicted values (Ordinary Least Squares method).\n"
   ],
   "metadata": {
    "collapsed": false
   },
   "id": "e5f60d85a1f2e62b"
  },
  {
   "cell_type": "code",
   "execution_count": null,
   "outputs": [],
   "source": [
    "# Create linear regression object\n",
    "lr_model = LinearRegression()\n",
    "lr_model.fit(X_train_resampled, y_train_resampled)\n",
    "\n",
    "X_test_lr = X_test  # No need to add constant for scikit-learn model\n",
    "\n",
    "# Predict using scikit-learn model\n",
    "y_pred_lr = lr_model.predict(X_test_lr)\n",
    "\n",
    "\n",
    "Linear_model_R_squared = r2_score(y_test, y_pred_lr)\n",
    "Linear_model_RMSE=mean_squared_error(y_test, y_pred_lr, squared=False)\n",
    "Linear_model_MAE = mean_absolute_error(y_test, y_pred_lr)\n"
   ],
   "metadata": {
    "collapsed": false
   },
   "id": "4a3e1e4df063d272"
  },
  {
   "cell_type": "markdown",
   "source": [
    "### Random Forest Regressor\n",
    "\n",
    "A Random Forest Regressor is a machine learning algorithm used for regression tasks. It's an ensemble learning method that operates by constructing multiple decision trees during training and outputting the average prediction of the individual trees for regression problems."
   ],
   "metadata": {
    "collapsed": false
   },
   "id": "c4a0656ab564db2d"
  },
  {
   "cell_type": "code",
   "execution_count": null,
   "outputs": [],
   "source": [
    "# Creating and fitting the Random Forest Regression model\n",
    "rf_model = RandomForestRegressor(n_estimators=100, random_state=42)  # You can adjust hyperparameters\n",
    "rf_model.fit(X_train, y_train)\n",
    "\n",
    "# Predicting on the test set\n",
    "y_pred_rf = rf_model.predict(X_test)\n",
    "\n",
    "\n",
    "Random_Forest_model_R_squared = r2_score(y_test, y_pred_rf)\n",
    "Random_Forest_model_RMSE = mean_squared_error(y_test, y_pred_rf, squared=False)\n",
    "Random_Forest_modelMAE = mean_absolute_error(y_test, y_pred_rf)"
   ],
   "metadata": {
    "collapsed": false
   },
   "id": "5b6c55252cb5d2e3"
  },
  {
   "cell_type": "markdown",
   "source": [
    "### Prediction Plots of each model"
   ],
   "metadata": {
    "collapsed": false
   },
   "id": "7d200dac42cf1a47"
  },
  {
   "cell_type": "code",
   "execution_count": null,
   "outputs": [],
   "source": [
    "# Plotting for OLS model\n",
    "plt.figure(figsize=(8, 6))\n",
    "plt.scatter(y_test, y_pred_sm, color='blue')\n",
    "plt.title('OLS model: Actual vs Predicted')\n",
    "plt.xlabel('Actual values')\n",
    "plt.ylabel('Predicted values')\n",
    "plt.show()\n",
    "\n",
    "# Plotting for Linear Regression Model\n",
    "plt.figure(figsize=(8, 6))\n",
    "plt.scatter(y_test, y_pred_lr, color='red')\n",
    "plt.title('Linear Regression Model: Actual vs Predicted')\n",
    "plt.xlabel('Actual values')\n",
    "plt.ylabel('Predicted values')\n",
    "plt.show()\n",
    "\n",
    "# Plotting for Random Forest Model\n",
    "plt.figure(figsize=(8, 6))\n",
    "plt.scatter(y_test, y_pred_rf, color='red')\n",
    "plt.title('Random Forest Model: Actual vs Predicted')\n",
    "plt.xlabel('Actual values')\n",
    "plt.ylabel('Predicted values')\n",
    "plt.show()\n"
   ],
   "metadata": {
    "collapsed": false
   },
   "id": "6e4a892a40e6f0e6"
  },
  {
   "cell_type": "markdown",
   "source": [
    "The graphs show the predicted and actual values of the 3 models\n",
    "and they seem to be correctly predicted."
   ],
   "metadata": {
    "collapsed": false
   },
   "id": "2234df28427ed67f"
  },
  {
   "cell_type": "markdown",
   "source": [
    "### Performance Metrics"
   ],
   "metadata": {
    "collapsed": false
   },
   "id": "1a3872f05847169"
  },
  {
   "cell_type": "code",
   "execution_count": null,
   "outputs": [],
   "source": [
    "df = pd.DataFrame({\n",
    "    \"Model\": [\"OLS\", \"Linear\", \"Random Forest\"],\n",
    "    \"R-squared\": [OLS_model_R_squared,Linear_model_R_squared, Random_Forest_model_R_squared],\n",
    "    \"RMSE\": [OLS_model_RMSE, Linear_model_RMSE, Random_Forest_model_RMSE],\n",
    "    \"MAE\": [OLS_model_MAE, Linear_model_MAE, Random_Forest_modelMAE]\n",
    "})\n",
    "\n",
    "# Print the DataFrame\n",
    "print(df.to_string())\n"
   ],
   "metadata": {
    "collapsed": false
   },
   "id": "9710c36a73c54e35"
  },
  {
   "cell_type": "markdown",
   "source": [
    "### Conclusion:\n",
    "Both the OLS and Linear models perform very similarly and seem to outperform the Random Forest model based on these metrics.\n",
    "It's challenging to decisively say which model is definitively better without further context or specific requirements.\n",
    "However, based solely on these evaluation metrics (R-squared, RMSE, and MAE), the OLS and Linear models appear to have slightly better predictive performance compared to the Random Forest model."
   ],
   "metadata": {
    "collapsed": false
   },
   "id": "13309259c8fe42c3"
  }
 ],
 "metadata": {
  "kernelspec": {
   "display_name": "Python 3",
   "language": "python",
   "name": "python3"
  },
  "language_info": {
   "codemirror_mode": {
    "name": "ipython",
    "version": 2
   },
   "file_extension": ".py",
   "mimetype": "text/x-python",
   "name": "python",
   "nbconvert_exporter": "python",
   "pygments_lexer": "ipython2",
   "version": "2.7.6"
  }
 },
 "nbformat": 4,
 "nbformat_minor": 5
}
